{
 "cells": [
  {
   "cell_type": "code",
   "execution_count": 28,
   "metadata": {
    "scrolled": true
   },
   "outputs": [
    {
     "name": "stderr",
     "output_type": "stream",
     "text": [
      "/tmp/ipykernel_21378/1427944705.py:9: DeprecationWarning: Importing display from IPython.core.display is deprecated since IPython 7.14, please import from IPython display\n",
      "  from IPython.core.display import display, HTML\n"
     ]
    },
    {
     "data": {
      "text/html": [
       "<style>.container { width:90% !important; }</style>"
      ],
      "text/plain": [
       "<IPython.core.display.HTML object>"
      ]
     },
     "metadata": {},
     "output_type": "display_data"
    }
   ],
   "source": [
    "import pandas as pd\n",
    "import seaborn as sns\n",
    "import math\n",
    "from matplotlib import pyplot as plt\n",
    "import matplotlib\n",
    "import re\n",
    "import time\n",
    "from statistics import geometric_mean\n",
    "from IPython.core.display import display, HTML\n",
    "display(HTML(\"<style>.container { width:90% !important; }</style>\"))"
   ]
  },
  {
   "cell_type": "code",
   "execution_count": 29,
   "metadata": {},
   "outputs": [],
   "source": [
    "f1 = 'F(a & F(b & F(c & F(d & XF(a)))))'\n",
    "f2 = 'F(a & F(b & F(c & F(d & F(e & F(f & F(g & F(h & F(i & XF(a))))))))))'\n",
    "f3 = '((~b)U(a & XF (b))) & ((~c)U(b & XF (c)))'\n",
    "f4 = 'F(a & XF (b & XF(c|(d & XF e))))'\n",
    "f5 = 'G(~d) & ((~(b|c)) U a) & ((~c) U b) & F(a & XF(b & XF(c)))'"
   ]
  },
  {
   "cell_type": "code",
   "execution_count": 30,
   "metadata": {},
   "outputs": [],
   "source": [
    "winltl = dict()\n",
    "winltla = dict()\n",
    "ties = dict()\n",
    "solgap = dict()\n",
    "\n",
    "for h in ['h1', 'hm', 'hcp']:\n",
    "    if h not in winltl:\n",
    "        winltl[h] = dict()\n",
    "    if h not in winltla:\n",
    "        winltla[h] = dict()\n",
    "    if h not in ties:\n",
    "        ties[h] = dict()\n",
    "    if h not in solgap:\n",
    "        solgap[h] = dict()\n",
    "    for domain in ['8', 'starcraft', 'maze32']:\n",
    "        winltl[h][domain] = 0\n",
    "        winltla[h][domain] = 0\n",
    "        ties[h][domain] = 0\n",
    "        solgap[h][domain] = []\n",
    "        \n",
    "\n",
    "\n",
    "for f in [f1,f2,f3,f4,f5]:\n",
    "    for rep in [\"rep3\", 'rep25']:\n",
    "        for domain in ['8', 'starcraft', 'maze32']:\n",
    "            resultsh1 = []\n",
    "            resultshm = []\n",
    "            resultshcp = []\n",
    "            for alg in ['LTL-LRTA*','LTL-LRTA*A']:\n",
    "                name = f'G{domain} - h1 - {rep} - f{f} - {alg}.csv'\n",
    "                try:\n",
    "                    with open(name, 'r') as file:\n",
    "                        lines = file.readlines()\n",
    "                    resultsh1.append(pd.read_csv(name))\n",
    "                except FileNotFoundError:\n",
    "                    print(\"ERROR:\", name)\n",
    "                    break\n",
    "                    \n",
    "                name = f'G{domain} - hm - {rep} - f{f} - {alg}.csv'\n",
    "                try:\n",
    "                    with open(name, 'r') as file:\n",
    "                        lines = file.readlines()\n",
    "                    resultshm.append(pd.read_csv(name))\n",
    "                except FileNotFoundError:\n",
    "                    print(\"ERROR:\", name)\n",
    "                    break\n",
    "\n",
    "                name = f'G{domain} - hcp - {rep} - f{f} - {alg}.csv'\n",
    "                try:\n",
    "                    with open(name, 'r') as file:\n",
    "                        lines = file.readlines()\n",
    "                    resultshcp.append(pd.read_csv(name))\n",
    "                except FileNotFoundError:\n",
    "                    print(\"ERROR:\", name)\n",
    "                    break\n",
    "            \n",
    "            datah1 = pd.concat(resultsh1).reset_index()\n",
    "            datahm = pd.concat(resultshm).reset_index()\n",
    "            datahcp = pd.concat(resultshcp).reset_index()\n",
    "            datah1.drop('index', axis=1, inplace=True)\n",
    "            datahm.drop('index', axis=1, inplace=True)\n",
    "            datahcp.drop('index', axis=1, inplace=True)\n",
    "            datah1.columns = ['Algorithm', 'Lookahead', 'Room', 'Map', 'Grid', 'Steps', 'Episodios', 'Expansiones', 'Microseconds']\n",
    "            datahm.columns = ['Algorithm', 'Lookahead', 'Room', 'Map', 'Grid', 'Steps', 'Episodios', 'Expansiones', 'Microseconds']\n",
    "            datahcp.columns = ['Algorithm', 'Lookahead', 'Room', 'Map', 'Grid', 'Steps', 'Episodios', 'Expansiones', 'Microseconds']\n",
    "            datah1['Miliseconds'] = datah1['Microseconds']*1000\n",
    "            datahm['Miliseconds'] = datahm['Microseconds']*1000\n",
    "            datahcp['Miliseconds'] = datahcp['Microseconds']*1000\n",
    "            datah1.drop('Microseconds', axis=1, inplace=True)\n",
    "            datahm.drop('Microseconds', axis=1, inplace=True)\n",
    "            datahcp.drop('Microseconds', axis=1, inplace=True)\n",
    "            datah1['Heuristic'] = 'h1'\n",
    "            datahm['Heuristic'] = 'hm'\n",
    "            datahcp['Heuristic'] = 'hcp'\n",
    "            data = []\n",
    "\n",
    "            d = pd.concat([datahcp, datahm, datah1])\n",
    "            d = d.reset_index().drop(columns=['index'])\n",
    "\n",
    "            for h in ['h1', 'hm', 'hcp']:\n",
    "                resltl = []\n",
    "                resltla = []\n",
    "                for k in sorted(list(set(d['Lookahead']))):\n",
    "                    if k < 32:\n",
    "                        continue\n",
    "\n",
    "                    var1 = d[(d['Lookahead'] == k) & (d['Algorithm'] == \"LTL-LRTA*\") & (d['Heuristic'] == h)]['Steps']\n",
    "                    var2 = d[(d['Lookahead'] == k) & (d['Algorithm'] == \"LTL-LRTA*A\") & (d['Heuristic'] == h)]['Steps']\n",
    "                    for ltl, ltla in zip(var1, var2):\n",
    "                        if ltl < ltla:\n",
    "                            winltl[h][domain] += 1\n",
    "                        elif ltla < ltl:\n",
    "                            winltla[h][domain] += 1\n",
    "                        else:\n",
    "                            ties[h][domain] += 1\n",
    "                        solgap[h][domain].append(ltl/ltla)"
   ]
  },
  {
   "cell_type": "code",
   "execution_count": 31,
   "metadata": {},
   "outputs": [
    {
     "name": "stdout",
     "output_type": "stream",
     "text": [
      "h1 8 1020 1980 0 1.2946051890046408\n",
      "h1 starcraft 1213 1787 0 1.157687684011814\n",
      "h1 maze32 1272 1728 0 1.1368360552891088\n",
      "hm 8 841 1524 635 1.0204463089014857\n",
      "hm starcraft 461 531 2008 1.0021591991500207\n",
      "hm maze32 588 696 1716 1.004561727424245\n",
      "hcp 8 20 2980 0 31.912438282000537\n",
      "hcp starcraft 27 2973 0 11.564416785288268\n",
      "hcp maze32 169 2830 1 3.105644745884876\n"
     ]
    }
   ],
   "source": [
    "for h in ['h1', 'hm', 'hcp']:\n",
    "    for domain in ['8', 'starcraft', 'maze32']:\n",
    "        print(h, domain, winltl[h][domain], winltla[h][domain], ties[h][domain], geometric_mean(solgap[h][domain]))"
   ]
  }
 ],
 "metadata": {
  "interpreter": {
   "hash": "916dbcbb3f70747c44a77c7bcd40155683ae19c65e1c03b4aa3499c5328201f1"
  },
  "kernelspec": {
   "display_name": "Python 3 (ipykernel)",
   "language": "python",
   "name": "python3"
  },
  "language_info": {
   "codemirror_mode": {
    "name": "ipython",
    "version": 3
   },
   "file_extension": ".py",
   "mimetype": "text/x-python",
   "name": "python",
   "nbconvert_exporter": "python",
   "pygments_lexer": "ipython3",
   "version": "3.10.12"
  }
 },
 "nbformat": 4,
 "nbformat_minor": 4
}
